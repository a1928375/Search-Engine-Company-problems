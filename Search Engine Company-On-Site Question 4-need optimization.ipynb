{
 "cells": [
  {
   "cell_type": "markdown",
   "metadata": {},
   "source": [
    "# Mine-O(n)"
   ]
  },
  {
   "cell_type": "code",
   "execution_count": 5,
   "metadata": {},
   "outputs": [],
   "source": [
    "def squareRoot(n):\n",
    "    \n",
    "    if n == 0 or n == 1:\n",
    "        \n",
    "        return n\n",
    "    \n",
    "    for i in range(2,n):\n",
    "        \n",
    "        if n < i * i:\n",
    "            \n",
    "            return i-1\n"
   ]
  },
  {
   "cell_type": "code",
   "execution_count": 10,
   "metadata": {},
   "outputs": [
    {
     "name": "stdout",
     "output_type": "stream",
     "text": [
      "36\n",
      "2.24 ms ± 53.4 µs per loop (mean ± std. dev. of 7 runs, 100 loops each)\n"
     ]
    }
   ],
   "source": [
    "print (squareRoot(1323))\n",
    "\n",
    "%timeit squareRoot(1323232323)"
   ]
  },
  {
   "cell_type": "markdown",
   "metadata": {},
   "source": [
    "# Instructor-O(n)"
   ]
  },
  {
   "cell_type": "code",
   "execution_count": null,
   "metadata": {},
   "outputs": [],
   "source": [
    "def solution(num): \n",
    "    \n",
    "    if num<0: \n",
    "        \n",
    "        raise ValueError\n",
    "        \n",
    "    if num==1: \n",
    "        \n",
    "        return 1 \n",
    "    \n",
    "    for k in range(1+(num/2)): \n",
    "        \n",
    "        if k**2==num: \n",
    "            \n",
    "            return k \n",
    "        \n",
    "        elif k**2>num: \n",
    "            \n",
    "            return k-1 \n",
    "        \n",
    "    return k  "
   ]
  },
  {
   "cell_type": "markdown",
   "metadata": {},
   "source": [
    "# Instructor-O(logN)"
   ]
  },
  {
   "cell_type": "code",
   "execution_count": 8,
   "metadata": {},
   "outputs": [],
   "source": [
    "def better_solution(num): \n",
    "    \n",
    "    if num < 0: \n",
    "        \n",
    "        raise ValueError \n",
    "        \n",
    "    if num == 1: \n",
    "        \n",
    "        return 1 \n",
    "    \n",
    "    low = 0 \n",
    "    \n",
    "    high = 1 + (num // 2)             # +1是因為要讓high和low在num很小時有區別，Ex: num = 1\n",
    "    \n",
    "    while low+1 < high:               # +1是因為要讓low最後不會變成high\n",
    "        \n",
    "        mid = low + (high-low) // 2 \n",
    "        \n",
    "        square = mid**2 \n",
    "        \n",
    "        if square == num: \n",
    "            \n",
    "            return mid \n",
    "        \n",
    "        elif square < num: \n",
    "            \n",
    "            low = mid \n",
    "            \n",
    "        else: \n",
    "            \n",
    "            high = mid \n",
    "            \n",
    "    return low\n"
   ]
  },
  {
   "cell_type": "code",
   "execution_count": 11,
   "metadata": {},
   "outputs": [
    {
     "name": "stdout",
     "output_type": "stream",
     "text": [
      "25.9 µs ± 4.32 µs per loop (mean ± std. dev. of 7 runs, 100000 loops each)\n"
     ]
    }
   ],
   "source": [
    "%timeit better_solution(1323232323)"
   ]
  },
  {
   "cell_type": "code",
   "execution_count": null,
   "metadata": {},
   "outputs": [],
   "source": []
  }
 ],
 "metadata": {
  "kernelspec": {
   "display_name": "Python 3",
   "language": "python",
   "name": "python3"
  },
  "language_info": {
   "codemirror_mode": {
    "name": "ipython",
    "version": 3
   },
   "file_extension": ".py",
   "mimetype": "text/x-python",
   "name": "python",
   "nbconvert_exporter": "python",
   "pygments_lexer": "ipython3",
   "version": "3.7.3"
  }
 },
 "nbformat": 4,
 "nbformat_minor": 2
}
